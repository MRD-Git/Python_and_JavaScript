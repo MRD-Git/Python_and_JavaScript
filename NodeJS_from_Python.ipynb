{
 "cells": [
  {
   "cell_type": "markdown",
   "metadata": {},
   "source": [
    "# Interacting with JavaScript from Python\n",
    "For details, see\n",
    "- https://naked.readthedocs.io/toolshed_shell.html#javascript-node-js-execution-functions (documentation of the *Naked* package),<br>\n",
    "- http://sweetme.at/2014/02/17/a-simple-approach-to-execute-a-node.js-script-from-python (article on the *Naked* package that this notebook is based on),<br>\n",
    "- https://stackabuse.com/command-line-arguments-in-node-js (details on command line arguments that also apply to the `execute_js` and `muterun_js` commands),<br>\n",
    "- https://stackoverflow.com/questions/16311562/python-json-without-whitespaces (**important** details on whitespaces in JSON strings),<br>\n",
    "- https://docs.python.org/3/library/json.html#json.dump, (official Python documentation on the `json.dump` command),<br>\n",
    "- https://stackoverflow.com/questions/4351521/how-do-i-pass-command-line-arguments-to-a-node-js-program (illustration of the use of command line arguments within JavaScript), and<br>\n",
    "- https://www.json.org/json-en.html (details on JSON).\n",
    "\n",
    "Note that the execution of JavaScript from Python via the *naked* package depends on Node.js (https://nodejs.org).<br><br>\n",
    "There are many resources on the web that describe how to interface Python with JavaScript. Here, we want to run a JavaScript file within Python code. We do this with Node.js and the *Naked* package for Python. There are two relevant functions: `execute_js` and `muterun_js`. Both of them return output via `console.log()`. The former returns that output to the shell / terminal and the latter stores it in a variable that is accessible within Python. Either of them supports ES6 (ECMAScript 6). We start with the former (so check the shell / terminal to see the output)."
   ]
  },
  {
   "cell_type": "code",
   "execution_count": 1,
   "metadata": {},
   "outputs": [
    {
     "data": {
      "text/plain": [
       "True"
      ]
     },
     "execution_count": 1,
     "metadata": {},
     "output_type": "execute_result"
    }
   ],
   "source": [
    "from Naked.toolshed.shell import execute_js, muterun_js\n",
    "import json\n",
    "success = execute_js('./NodeJS_from_Python/testscript_1.js')\n",
    "success"
   ]
  },
  {
   "cell_type": "markdown",
   "metadata": {},
   "source": [
    "This works well. Now, let's pass an argument to Node.js and run a file that does something with that argument. (Again, check the shell / terminal to see the output.)"
   ]
  },
  {
   "cell_type": "code",
   "execution_count": 2,
   "metadata": {},
   "outputs": [
    {
     "data": {
      "text/plain": [
       "True"
      ]
     },
     "execution_count": 2,
     "metadata": {},
     "output_type": "execute_result"
    }
   ],
   "source": [
    "success = execute_js('./NodeJS_from_Python/testscript_2.js', arguments=\"Karina\")\n",
    "success"
   ]
  },
  {
   "cell_type": "markdown",
   "metadata": {},
   "source": [
    "Let's move on to the command `muterun_js`, using the same JavaScript file. The output will not be passed to the terminal but returned to a variable that is accessible in Python."
   ]
  },
  {
   "cell_type": "code",
   "execution_count": 3,
   "metadata": {},
   "outputs": [
    {
     "name": "stdout",
     "output_type": "stream",
     "text": [
      "0\n",
      "b''\n"
     ]
    },
    {
     "data": {
      "text/plain": [
       "b'Hello Karina\\n6\\n'"
      ]
     },
     "execution_count": 3,
     "metadata": {},
     "output_type": "execute_result"
    }
   ],
   "source": [
    "response = muterun_js('./NodeJS_from_Python/testscript_2.js', arguments=\"Karina\")\n",
    "print(response.exitcode)\n",
    "print(response.stderr)\n",
    "response.stdout"
   ]
  },
  {
   "cell_type": "markdown",
   "metadata": {},
   "source": [
    "We do not only want to send variables to but also receive variables from JavaScript. For both directions, JSON – short for *JavaScript Object Notation* – is the right format. Moreover, JSON is implemented in many languages. Proper syntax (in terms of spaces, colons, and single / double quotations marks) can be very important. Indeed, it is important in the below example: we need to modify the default separators in order to make the JSON string readable for JavaScript. Then, JavaScript translates the transmitted data into variables, does something with it, encrypts it again in a JSON string, and sends the result back to Python. Python also translates it into variables, ..."
   ]
  },
  {
   "cell_type": "code",
   "execution_count": 4,
   "metadata": {},
   "outputs": [
    {
     "name": "stdout",
     "output_type": "stream",
     "text": [
      "[1,3,-2,15,7.1]\n"
     ]
    },
    {
     "data": {
      "text/plain": [
       "[1, 9, 4, 225, 50.41]"
      ]
     },
     "execution_count": 4,
     "metadata": {},
     "output_type": "execute_result"
    }
   ],
   "source": [
    "myArray = [1, 3, -2, 15, 7.1]\n",
    "myArray_json = json.dumps(myArray, separators=(',', ': ')) # or (',', ':')\n",
    "print(myArray_json)\n",
    "response = muterun_js('./NodeJS_from_Python/testscript_3.js', arguments=myArray_json)\n",
    "if response.exitcode:\n",
    "    print(response.exitcode)\n",
    "    print(response.stderr)\n",
    "    result = 0\n",
    "else:\n",
    "    result = json.loads(response.stdout)\n",
    "result"
   ]
  },
  {
   "cell_type": "markdown",
   "metadata": {},
   "source": [
    "... also does something with it, and prints the results."
   ]
  },
  {
   "cell_type": "code",
   "execution_count": 5,
   "metadata": {},
   "outputs": [
    {
     "name": "stdout",
     "output_type": "stream",
     "text": [
      "2\n",
      "10\n",
      "5\n",
      "226\n",
      "51.41\n"
     ]
    }
   ],
   "source": [
    "for i in result:\n",
    "    print(i + 1)"
   ]
  },
  {
   "cell_type": "markdown",
   "metadata": {},
   "source": [
    "The file \"processargv.js\" is also very illustrative. In particular, it shows the first two arguments of the `execute_js` and `muterun_js` commands: \n",
    "1. path to node and \n",
    "2. path to called file.\n",
    "\n",
    "Try it out!\n",
    "\n",
    "<img src=\"./NodeJS_from_Python/stackabuse.png\" width=\"90%\">"
   ]
  }
 ],
 "metadata": {
  "kernelspec": {
   "display_name": "Python 3",
   "language": "python",
   "name": "python3"
  },
  "language_info": {
   "codemirror_mode": {
    "name": "ipython",
    "version": 3
   },
   "file_extension": ".py",
   "mimetype": "text/x-python",
   "name": "python",
   "nbconvert_exporter": "python",
   "pygments_lexer": "ipython3",
   "version": "3.6.9"
  }
 },
 "nbformat": 4,
 "nbformat_minor": 2
}
